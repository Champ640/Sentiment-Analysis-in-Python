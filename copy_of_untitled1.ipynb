{
  "nbformat": 4,
  "nbformat_minor": 0,
  "metadata": {
    "colab": {
      "provenance": [],
      "authorship_tag": "ABX9TyOBqBd5KaQMBLxtwaP909pg",
      "include_colab_link": true
    },
    "kernelspec": {
      "name": "python3",
      "display_name": "Python 3"
    },
    "language_info": {
      "name": "python"
    }
  },
  "cells": [
    {
      "cell_type": "markdown",
      "metadata": {
        "id": "view-in-github",
        "colab_type": "text"
      },
      "source": [
        "<a href=\"https://colab.research.google.com/github/Champ640/Sentiment-Analysis-in-Python/blob/main/copy_of_untitled1.ipynb\" target=\"_parent\"><img src=\"https://colab.research.google.com/assets/colab-badge.svg\" alt=\"Open In Colab\"/></a>"
      ]
    },
    {
      "cell_type": "code",
      "execution_count": null,
      "metadata": {
        "id": "T_NDS_VhuF3G"
      },
      "outputs": [],
      "source": [
        "# Get the Sentiment of text from a website"
      ]
    },
    {
      "cell_type": "code",
      "source": [
        "!pip install newspaper3k\n",
        "!pip install wikipedia\n",
        "!pip install textblob\n",
        "from textblob import TextBlob\n",
        "from newspaper import article\n",
        "!pip install wikipedia\n",
        "import wikipedia\n",
        "import spacy\n",
        "pageid=1999\n",
        "article= wikipedia.WikipediaPage(pageid)\n",
        "\n",
        "text= article.content\n",
        "nlp= spacy.load('en_core_web_sm')\n",
        "doc= nlp(text)\n",
        "print(doc)\n",
        "\n",
        "blob=TextBlob(text)\n",
        "sentiment=blob.sentiment.polarity\n",
        "print(sentiment)\n",
        "\n",
        "from textblob import TextBlob\n",
        "\n",
        "text = \"it was an amazing party\"\n",
        "\n",
        "blob = TextBlob(text)\n",
        "\n",
        "print(blob.sentiment)\n"
      ],
      "metadata": {
        "colab": {
          "base_uri": "https://localhost:8080/"
        },
        "id": "5KIeXIaIuTFl",
        "outputId": "6b05937c-4cd5-4f15-bfcf-5c1c5d9063cb"
      },
      "execution_count": null,
      "outputs": [
        {
          "output_type": "stream",
          "name": "stdout",
          "text": [
            "Requirement already satisfied: newspaper3k in /usr/local/lib/python3.10/dist-packages (0.2.8)\n",
            "Requirement already satisfied: beautifulsoup4>=4.4.1 in /usr/local/lib/python3.10/dist-packages (from newspaper3k) (4.11.2)\n",
            "Requirement already satisfied: Pillow>=3.3.0 in /usr/local/lib/python3.10/dist-packages (from newspaper3k) (9.4.0)\n",
            "Requirement already satisfied: PyYAML>=3.11 in /usr/local/lib/python3.10/dist-packages (from newspaper3k) (6.0.1)\n",
            "Requirement already satisfied: cssselect>=0.9.2 in /usr/local/lib/python3.10/dist-packages (from newspaper3k) (1.2.0)\n",
            "Requirement already satisfied: lxml>=3.6.0 in /usr/local/lib/python3.10/dist-packages (from newspaper3k) (4.9.4)\n",
            "Requirement already satisfied: nltk>=3.2.1 in /usr/local/lib/python3.10/dist-packages (from newspaper3k) (3.8.1)\n",
            "Requirement already satisfied: requests>=2.10.0 in /usr/local/lib/python3.10/dist-packages (from newspaper3k) (2.31.0)\n",
            "Requirement already satisfied: feedparser>=5.2.1 in /usr/local/lib/python3.10/dist-packages (from newspaper3k) (6.0.11)\n",
            "Requirement already satisfied: tldextract>=2.0.1 in /usr/local/lib/python3.10/dist-packages (from newspaper3k) (5.1.1)\n",
            "Requirement already satisfied: feedfinder2>=0.0.4 in /usr/local/lib/python3.10/dist-packages (from newspaper3k) (0.0.4)\n",
            "Requirement already satisfied: jieba3k>=0.35.1 in /usr/local/lib/python3.10/dist-packages (from newspaper3k) (0.35.1)\n",
            "Requirement already satisfied: python-dateutil>=2.5.3 in /usr/local/lib/python3.10/dist-packages (from newspaper3k) (2.8.2)\n",
            "Requirement already satisfied: tinysegmenter==0.3 in /usr/local/lib/python3.10/dist-packages (from newspaper3k) (0.3)\n",
            "Requirement already satisfied: soupsieve>1.2 in /usr/local/lib/python3.10/dist-packages (from beautifulsoup4>=4.4.1->newspaper3k) (2.5)\n",
            "Requirement already satisfied: six in /usr/local/lib/python3.10/dist-packages (from feedfinder2>=0.0.4->newspaper3k) (1.16.0)\n",
            "Requirement already satisfied: sgmllib3k in /usr/local/lib/python3.10/dist-packages (from feedparser>=5.2.1->newspaper3k) (1.0.0)\n",
            "Requirement already satisfied: click in /usr/local/lib/python3.10/dist-packages (from nltk>=3.2.1->newspaper3k) (8.1.7)\n",
            "Requirement already satisfied: joblib in /usr/local/lib/python3.10/dist-packages (from nltk>=3.2.1->newspaper3k) (1.3.2)\n",
            "Requirement already satisfied: regex>=2021.8.3 in /usr/local/lib/python3.10/dist-packages (from nltk>=3.2.1->newspaper3k) (2023.6.3)\n",
            "Requirement already satisfied: tqdm in /usr/local/lib/python3.10/dist-packages (from nltk>=3.2.1->newspaper3k) (4.66.1)\n",
            "Requirement already satisfied: charset-normalizer<4,>=2 in /usr/local/lib/python3.10/dist-packages (from requests>=2.10.0->newspaper3k) (3.3.2)\n",
            "Requirement already satisfied: idna<4,>=2.5 in /usr/local/lib/python3.10/dist-packages (from requests>=2.10.0->newspaper3k) (3.6)\n",
            "Requirement already satisfied: urllib3<3,>=1.21.1 in /usr/local/lib/python3.10/dist-packages (from requests>=2.10.0->newspaper3k) (2.0.7)\n",
            "Requirement already satisfied: certifi>=2017.4.17 in /usr/local/lib/python3.10/dist-packages (from requests>=2.10.0->newspaper3k) (2023.11.17)\n",
            "Requirement already satisfied: requests-file>=1.4 in /usr/local/lib/python3.10/dist-packages (from tldextract>=2.0.1->newspaper3k) (1.5.1)\n",
            "Requirement already satisfied: filelock>=3.0.8 in /usr/local/lib/python3.10/dist-packages (from tldextract>=2.0.1->newspaper3k) (3.13.1)\n",
            "Requirement already satisfied: wikipedia in /usr/local/lib/python3.10/dist-packages (1.4.0)\n",
            "Requirement already satisfied: beautifulsoup4 in /usr/local/lib/python3.10/dist-packages (from wikipedia) (4.11.2)\n",
            "Requirement already satisfied: requests<3.0.0,>=2.0.0 in /usr/local/lib/python3.10/dist-packages (from wikipedia) (2.31.0)\n",
            "Requirement already satisfied: charset-normalizer<4,>=2 in /usr/local/lib/python3.10/dist-packages (from requests<3.0.0,>=2.0.0->wikipedia) (3.3.2)\n",
            "Requirement already satisfied: idna<4,>=2.5 in /usr/local/lib/python3.10/dist-packages (from requests<3.0.0,>=2.0.0->wikipedia) (3.6)\n",
            "Requirement already satisfied: urllib3<3,>=1.21.1 in /usr/local/lib/python3.10/dist-packages (from requests<3.0.0,>=2.0.0->wikipedia) (2.0.7)\n",
            "Requirement already satisfied: certifi>=2017.4.17 in /usr/local/lib/python3.10/dist-packages (from requests<3.0.0,>=2.0.0->wikipedia) (2023.11.17)\n",
            "Requirement already satisfied: soupsieve>1.2 in /usr/local/lib/python3.10/dist-packages (from beautifulsoup4->wikipedia) (2.5)\n",
            "Requirement already satisfied: textblob in /usr/local/lib/python3.10/dist-packages (0.17.1)\n",
            "Requirement already satisfied: nltk>=3.1 in /usr/local/lib/python3.10/dist-packages (from textblob) (3.8.1)\n",
            "Requirement already satisfied: click in /usr/local/lib/python3.10/dist-packages (from nltk>=3.1->textblob) (8.1.7)\n",
            "Requirement already satisfied: joblib in /usr/local/lib/python3.10/dist-packages (from nltk>=3.1->textblob) (1.3.2)\n",
            "Requirement already satisfied: regex>=2021.8.3 in /usr/local/lib/python3.10/dist-packages (from nltk>=3.1->textblob) (2023.6.3)\n",
            "Requirement already satisfied: tqdm in /usr/local/lib/python3.10/dist-packages (from nltk>=3.1->textblob) (4.66.1)\n",
            "Requirement already satisfied: wikipedia in /usr/local/lib/python3.10/dist-packages (1.4.0)\n",
            "Requirement already satisfied: beautifulsoup4 in /usr/local/lib/python3.10/dist-packages (from wikipedia) (4.11.2)\n",
            "Requirement already satisfied: requests<3.0.0,>=2.0.0 in /usr/local/lib/python3.10/dist-packages (from wikipedia) (2.31.0)\n",
            "Requirement already satisfied: charset-normalizer<4,>=2 in /usr/local/lib/python3.10/dist-packages (from requests<3.0.0,>=2.0.0->wikipedia) (3.3.2)\n",
            "Requirement already satisfied: idna<4,>=2.5 in /usr/local/lib/python3.10/dist-packages (from requests<3.0.0,>=2.0.0->wikipedia) (3.6)\n",
            "Requirement already satisfied: urllib3<3,>=1.21.1 in /usr/local/lib/python3.10/dist-packages (from requests<3.0.0,>=2.0.0->wikipedia) (2.0.7)\n",
            "Requirement already satisfied: certifi>=2017.4.17 in /usr/local/lib/python3.10/dist-packages (from requests<3.0.0,>=2.0.0->wikipedia) (2023.11.17)\n",
            "Requirement already satisfied: soupsieve>1.2 in /usr/local/lib/python3.10/dist-packages (from beautifulsoup4->wikipedia) (2.5)\n",
            "1999 (MCMXCIX) was a common year starting on Friday of the Gregorian calendar, the 1999th year of the Common Era (CE) and Anno Domini (AD) designations, the 999th  year of the 2nd millennium, the 99th  year of the 20th century, and the  10th  and last year of the 1990s decade.  \n",
            "1999 was designated as the International Year of Older Persons.\n",
            "\n",
            "\n",
            "== Events ==\n",
            "\n",
            "\n",
            "=== January ===\n",
            "January 1 – The euro currency is established and the European Central Bank assumes its full powers.\n",
            "January 3 – The Mars Polar Lander is launched by NASA.\n",
            "January 25 – The 6.2 Mw  Armenia, Colombia earthquake hits western Colombia, killing at least 1,900.\n",
            "\n",
            "\n",
            "=== February ===\n",
            "February 7 – Abdullah II inherits the throne of Jordan, following the death of his father King Hussein.\n",
            "February 11 – Pluto moves along its eccentric orbit further from the Sun than Neptune. It had been nearer than Neptune since 1979, and will become again in 2231.\n",
            "February 12 – U.S. President Bill Clinton is acquitted in impeachment proceedings in the United States Senate.\n",
            "February 16\n",
            "In Uzbekistan, an apparent assassination attempt against President Islam Karimov takes place at government headquarters.\n",
            "Across Europe, Kurdish rebels take over embassies and hold hostages after Turkey arrests one of their rebel leaders.\n",
            "February 23\n",
            "Kurdish rebel leader Abdullah Öcalan is charged with treason in Ankara, Turkey.\n",
            "1999 Galtür avalanche: An avalanche destroys the village of Galtür, Austria, killing 31.\n",
            "February 27 – While trying to circumnavigate the world in a hot air balloon, Colin Prescot and Andy Elson set a new endurance record after being aloft for 233 hours and 55 minutes.\n",
            "\n",
            "\n",
            "=== March ===\n",
            "March 1\n",
            "One of four bombs detonated in Lusaka, Zambia, destroys the Angolan Embassy.\n",
            "Rwandan Hutu rebels kill and dismember eight foreign tourists at the Buhoma homestead, Uganda.\n",
            "The Convention on the Prohibition of Anti-Personnel Mines comes into force.\n",
            "March 12 – Former Warsaw Pact members Hungary, Poland, and the Czech Republic join NATO.\n",
            "March 15 – The Santer Commission of the EU resigns over allegations of corruption.\n",
            "March 21\n",
            "Bertrand Piccard and Brian Jones become the first to circumnavigate the Earth in a hot air balloon.\n",
            "The 71st Academy Awards are held at the Dorothy Chandler Pavilion in Los Angeles with Shakespeare in Love winning Best Picture.\n",
            "March 24\n",
            "NATO launches air strikes against the Federal Republic of Yugoslavia, marking the first time NATO has attacked a sovereign state.\n",
            "A fire in the Mont Blanc Tunnel kills 39 people, closing the tunnel for nearly three years.\n",
            "March 26 – The Melissa worm attacks the Internet.\n",
            "March 27 – Kosovo War: A U.S. F-117 Nighthawk is shot down by Yugoslav forces.\n",
            "March 29 – For the first time, the Dow Jones Industrial Average closes above the 10,000 mark, at 10,006.78.\n",
            "\n",
            "\n",
            "=== April ===\n",
            "April 1 – Nunavut, an Inuit homeland, is created from the eastern portion of the Northwest Territories to become Canada's third territory.\n",
            "April 5\n",
            "Two Libyans suspected of bringing down Pan Am Flight 103 in 1988 are handed over to Scottish authorities for eventual trial in the Netherlands. The United Nations suspends sanctions against Libya.\n",
            "In Laramie, Wyoming, Russell Henderson pleads guilty to kidnapping and felony murder, in order to avoid a possible death penalty conviction for the apparent hate crime killing of Matthew Shepard.\n",
            "April 7 – Kosovo War: Kosovo's main border crossings are closed by Yugoslav forces to prevent Kosovar Albanians from leaving.\n",
            "April 9 – Ibrahim Baré Maïnassara, president of Niger, is assassinated.\n",
            "April 14 – Kosovo War: NATO warplanes repeatedly bomb ethnic Albanian refugee convoys for 2 hours over a 12-mile stretch of road, after mistaking them for Yugoslav military trucks, between Đakovica and Dečani in western Kosovo, killing at least 73 refugees.\n",
            "April 20 – Columbine High School massacre: Two Littleton, Colorado, teenagers, Eric Harris and Dylan Klebold, open fire on their teachers and classmates, killing 12 students and 1 teacher, and then themselves.\n",
            "April 24 – Namibian Economic Society is founded.\n",
            "April 26\n",
            "Sultan Salahuddin of Selangor becomes the 11th Yang di-Pertuan Agong of Malaysia.\n",
            "British TV presenter Jill Dando, 37, is shot dead on the doorstep of her home in Fulham, London.\n",
            "April 30 – Cambodia joins the Association of Southeast Asian Nations (ASEAN), bringing the total members to 10.\n",
            "\n",
            "\n",
            "=== May ===\n",
            "May 3 – 1999 Oklahoma tornado outbreak: a devastating tornado, rated F5 on the Fujita scale, hits southern and eastern Oklahoma City metropolitan area, killing 36 people (and 5 indirectly) and producing the highest winds recorded on Earth: 301 ± 20 mph (484 ± 32 km/h).\n",
            "May 7\n",
            "Kosovo War: in the Federal Republic of Yugoslavia, three Chinese embassy workers are killed and twenty others wounded when a NATO B-2 aircraft bombs the Chinese Embassy in Belgrade.\n",
            "In Guinea-Bissau, President João Bernardo Vieira is ousted in a military coup.\n",
            "May 12 – David Steel becomes the first Presiding Officer (Speaker) of the modern Scottish Parliament.\n",
            "May 13 – Carlo Azeglio Ciampi is elected President of Italy.\n",
            "May 17 – Ehud Barak is elected prime minister of Israel.\n",
            "May 26\n",
            "The Indian Air Force launches an attack on intruding Pakistan Army troops and mujahideen militants in Kashmir.\n",
            "The 1999 UEFA Champions League Final takes place at the Camp Nou Stadium, Barcelona, in which the English side Manchester United defeats the German side Bayern Munich 2–1.\n",
            "May 27 – The International Criminal Tribunal for the former Yugoslavia in The Hague, Netherlands indicts Slobodan Milošević and four others for war crimes and crimes against humanity committed in Kosovo.\n",
            "May 28\n",
            "Two Swedish police officers are wounded by bank robbers armed with automatic firearms, and later executed with their own service pistols in Malexander, Sweden.\n",
            "After 22 years of restoration work, Leonardo da Vinci's The Last Supper is placed back on display in Milan, Italy.\n",
            "May 29 – Nigeria terminates military rule, and the Fourth Nigerian Republic is established with Olusegun Obasanjo as president.\n",
            "\n",
            "\n",
            "=== June ===\n",
            "June 1 – Napster, a music downloading service, is created; it would later inspire other file-sharing sites such as The Pirate Bay, LimeWire, Gnutella, Kazaa, Morpheus, BearShare, and uTorrent 1999-2010 period which some called the \"Second Golden Age of Piracy\".\n",
            "June 2 – The King of Bhutan allows television transmissions to commence in the Kingdom for the first time, coinciding with the King's Silver Jubilee.\n",
            "June 5 – The Islamic Salvation Army, the armed wing of the Islamic Salvation Front, agrees in principle to disband in Algeria.\n",
            "June 8 – The government of Colombia announces it will include the estimated value of the country's illegal drug crops, exceeding half a billion US dollars, in its gross national product.\n",
            "June 9 – Kosovo War: Yugoslavia and NATO sign a peace treaty to end their hostilities.\n",
            "June 10 – Kosovo War: NATO suspends its air strikes after Slobodan Milošević agrees to withdraw Yugoslav forces from Kosovo.\n",
            "June 12 – Kosovo War: Operation Joint Guardian/Operation Agricola begins: NATO-led United Nations peacekeeping forces KFOR enter Kosovo, Yugoslavia.\n",
            "June 16 – Thabo Mbeki is inaugurated as the second president of South Africa, marking the first peaceful transfer of executive power in the country's post-democratization history.\n",
            "June 18 – The J18 international anti-globalization protests are organized in dozens of cities around the world, some of which led to riots.\n",
            "June 19 – Turin, Italy, is awarded the 2006 Winter Olympics.\n",
            "June 24 – Kosovo War: NATO marines shoot three gunmen in Kosovo, Yugoslavia after being attacked by the latter, killing one of them and injuring the other two.\n",
            "June 25 – Bosnia and Herzegovina gets a new national anthem.\n",
            "June 30 – Twenty-three people die in a fire at the Sealand Youth Training Center in South Korea.\n",
            "\n",
            "\n",
            "=== July ===\n",
            "July 1 – Europol (short for European Police Office) the European Union's criminal intelligence agency becomes fully operational.\n",
            "July 7 – In Rome, Hicham El Guerrouj runs the fastest mile ever recorded, at 3:43.13.\n",
            "July 10 – American soccer player Brandi Chastain scores the game winning penalty kick against China in the final of the FIFA Women's World Cup.\n",
            "July 11 – India recaptures Kargil, forcing the Pakistani army to retreat. India announces victory, ending the 2-month conflict.\n",
            "July 20\n",
            "Mercury program: Liberty Bell 7 – piloted by Gus Grissom in 1961 – is raised from the Atlantic Ocean.\n",
            "Falun Gong is banned in the People's Republic of China under Jiang Zemin.\n",
            "July 22-25 – Woodstock 99 was held in Rome, New York at former Griffiss Air Force Base, which was marred with difficult environmental conditions, poor sanitation, overpriced food and water, looting, violence, rapes, riots and several deaths.\n",
            "July 23\n",
            "NASA's Chandra X-ray Observatory is launched.\n",
            "Mohammed VI of Morocco becomes king upon the death of his father Hassan II.\n",
            "Fourteen Kosovar Serb villagers are killed by ethnic Albanian gunmen in the village of Staro Gračko.\n",
            "July 27 – Twenty-one people die in a canyoning disaster at the Saxetenbach Gorge near Interlaken, Switzerland.\n",
            "July 31 – NASA intentionally crashes the Lunar Prospector spacecraft into the Moon, thus ending its mission to detect frozen water on the lunar surface.\n",
            "\n",
            "\n",
            "=== August ===\n",
            "August 7 – Hundreds of Chechen guerrillas invade the Russian republic of Dagestan, triggering a short war.\n",
            "August 10 – The Atlantique incident occurs as an intruding Pakistan Navy plane is shot down in India, sparking tensions between the two nations, coming just a month after the end of the Kargil War.\n",
            "August 11 – A total solar eclipse is seen in Europe and Asia.\n",
            "August 16 – State Duma approved Putin as Prime Minister\n",
            "August 17 – The 7.6 Mw  İzmit earthquake shakes northwestern Turkey with a maximum Mercalli intensity of IX (Violent), leaving more than 17,000 dead and around 50,000 injured.\n",
            "August 19 – In Belgrade, tens of thousands of Yugoslavs rally to demand the resignation of Yugoslav President Slobodan Milošević.\n",
            "August 26 – The Second Chechen War begins\n",
            "August 30 – East Timor votes for independence from Indonesia (which had invaded and occupied it since 1975) in a referendum.\n",
            "\n",
            "\n",
            "=== September ===\n",
            "September 3 – 1999 Ontario Highway 401 crash occurs, involving 87 vehicles and killing 8.\n",
            "September 7 – The 6.0 Mw  Athens earthquake hits with a maximum Mercalli intensity of IX (Violent), killing 143, injuring 800–1,600, and leaving 50,000 homeless.\n",
            "September 8 – The first of a series of Russian apartment bombings occurs. Subsequent bombings occur on September 13 and 16, while a bombing on September 22 fails.\n",
            "September 12 – Under international pressure to allow an international peacekeeping force, Indonesian president BJ Habibie announces that he will do so.\n",
            "September 14 – Kiribati, Nauru and Tonga join the United Nations.\n",
            "September 20 – Start of the Greek stock market crash of 1999.\n",
            "September 21 – The 921 earthquake, also known as the Jiji earthquake (magnitude 7.6 on the Richter scale), kills about 2,400 people in Taiwan.\n",
            "\n",
            "\n",
            "=== October ===\n",
            "October\n",
            "Conacami (National Confederation of Peruvian Communities Affected by Mining) is established to protect indigenous rights.\n",
            "NASA loses one of its probes, the Mars Climate Orbiter.\n",
            "October 1 – Shanghai Pudong International Airport opens in China, taking over all international flights from Hongqiao.\n",
            "October 5 – Thirty-one people die in the Ladbroke Grove rail crash, west of London, England.\n",
            "October 12 – Pakistani Prime Minister Nawaz Sharif attempts to dismiss Army Chief General Pervez Musharraf, who is out of the country. The generals lead a coup d'état, ousting Sharif's administration, and Musharraf takes control of the government.\n",
            "October 25 – Telenovela Yo soy Betty, la fea debuts on RCN Television in Colombia. It will give rise to Ugly Betty and at least a dozen other versions worldwide.\n",
            "October 27 – 1999 Armenian parliament shooting: Gunmen open fire in the Armenian Parliament, killing Prime Minister Vazgen Sargsyan, Parliament Chairman Karen Demirchyan, and six other members.\n",
            "October 29 – 1999 Odisha cyclone: A super cyclonic storm impacts Orissa, India, killing approximately 10,000 people.\n",
            "October 30 – 1999 Incheon bar fire: A bar catches fire in Incheon, South Korea, killing 56 people.\n",
            "October 31\n",
            "EgyptAir Flight 990, travelling from New York City to Cairo, crashes off the coast of Nantucket, Massachusetts, killing all 217 on board.\n",
            "Roman Catholic Church and several Lutheran Church leaders sign the Joint Declaration on the Doctrine of Justification, attempting to resolve a centuries-old doctrinal dispute over the nature of faith and salvation.\n",
            "\n",
            "\n",
            "=== November ===\n",
            "November 6 – Australians defeat a referendum proposing the replacement of the Queen and the Governor General with a President to make Australia a republic.\n",
            "November 12 – The 7.2 Mw  Düzce earthquake shakes northwestern Turkey with a maximum Mercalli intensity of IX (Violent). At least 845 people are killed and almost 5,000 are injured.\n",
            "November 20 – China launches the first Shenzhou spacecraft.\n",
            "November 23 – The National Assembly of Kuwait revokes a 1985 law that granted women's suffrage.\n",
            "November 26 – The 7.5 Mw  Ambrym earthquake shakes Vanuatu and a destructive tsunami follows, killing 10 and injuring 40.\n",
            "November 27 – The centre-left Labour Party takes control of the New Zealand government, with leader Helen Clark becoming the second female Prime Minister in New Zealand's history.\n",
            "\n",
            "\n",
            "=== December ===\n",
            "December 3\n",
            "After rowing for 81 days and 5,486 kilometers (2,962 nautical miles), Tori Murden becomes the first woman to cross the Atlantic Ocean by rowboat alone, when she reaches Guadeloupe from the Canary Islands.\n",
            "NASA loses radio contact with the Mars Polar Lander, moments before the spacecraft enters the Martian atmosphere.\n",
            "December 5 – Bolivian municipal elections, the first election contested by Evo Morales' Movement for Socialism.\n",
            "December 18 – NASA launches the Terra platform into orbit, carrying five Earth Observation instruments, including ASTER, CERES, MISR, MODIS and MOPITT.\n",
            "December 20 – The sovereignty of Macau is transferred from the Portuguese Republic to the People's Republic of China after 442 years of Portuguese settlement.\n",
            "December 26 – Cyclone Lothar kills 140 people as it crosses France, southern Germany, and Switzerland.\n",
            "December 27 – A day after Cyclone Lothar, Cyclone Martin causes additional damage throughout France, Spain, Switzerland and Italy, including an emergency due to flooding at the Blayais Nuclear Power Plant.\n",
            "December 31 – Boris Yeltsin resigns as president of Russia, leaving Prime Minister Vladimir Putin as the acting president.\n",
            "\n",
            "\n",
            "== Births and deaths ==\n",
            "\n",
            "\n",
            "== Nobel Prizes ==\n",
            "Physics – Gerardus 't Hooft and Martinus J. G. Veltman\n",
            "Chemistry – Ahmed H. Zewail\n",
            "Physiology or Medicine – Günter Blobel\n",
            "Literature – Günter Grass\n",
            "Peace – Médecins Sans Frontières\n",
            "Bank of Sweden Prize in Economic Sciences in Memory of Alfred Nobel – Robert Mundell\n",
            "\n",
            "\n",
            "== New English words and terms ==\n",
            "blog\n",
            "carbon footprint\n",
            "dashcam\n",
            "epigenomics\n",
            "metabolomics\n",
            "texting\n",
            "vape\n",
            "\n",
            "\n",
            "== References ==\n",
            "\n",
            "\n",
            "== External links ==\n",
            " Media related to 1999 at Wikimedia Commons\n",
            "-0.03271384733410049\n",
            "Sentiment(polarity=0.6000000000000001, subjectivity=0.9)\n"
          ]
        }
      ]
    },
    {
      "cell_type": "code",
      "source": [
        "from textblob import TextBlob"
      ],
      "metadata": {
        "id": "EIJIJUODul5F"
      },
      "execution_count": null,
      "outputs": []
    },
    {
      "cell_type": "code",
      "source": [
        "pip install nltk\n"
      ],
      "metadata": {
        "colab": {
          "base_uri": "https://localhost:8080/"
        },
        "id": "x8ydyOzwvZfr",
        "outputId": "5c64bb38-74de-448e-e1d0-ea6e0a67725d"
      },
      "execution_count": null,
      "outputs": [
        {
          "output_type": "stream",
          "name": "stdout",
          "text": [
            "Requirement already satisfied: nltk in /usr/local/lib/python3.10/dist-packages (3.8.1)\n",
            "Requirement already satisfied: click in /usr/local/lib/python3.10/dist-packages (from nltk) (8.1.7)\n",
            "Requirement already satisfied: joblib in /usr/local/lib/python3.10/dist-packages (from nltk) (1.3.2)\n",
            "Requirement already satisfied: regex>=2021.8.3 in /usr/local/lib/python3.10/dist-packages (from nltk) (2023.6.3)\n",
            "Requirement already satisfied: tqdm in /usr/local/lib/python3.10/dist-packages (from nltk) (4.66.1)\n"
          ]
        }
      ]
    },
    {
      "cell_type": "code",
      "source": [
        "import nltk\n",
        "from newspaper import article"
      ],
      "metadata": {
        "id": "Qd70VfStvuwM"
      },
      "execution_count": null,
      "outputs": []
    },
    {
      "cell_type": "code",
      "source": [
        "pip install textblob"
      ],
      "metadata": {
        "colab": {
          "base_uri": "https://localhost:8080/"
        },
        "id": "imIIrnerv9VN",
        "outputId": "8806234c-54c0-494b-8a5e-f52616528561"
      },
      "execution_count": null,
      "outputs": [
        {
          "output_type": "stream",
          "name": "stdout",
          "text": [
            "Requirement already satisfied: textblob in /usr/local/lib/python3.10/dist-packages (0.17.1)\n",
            "Requirement already satisfied: nltk>=3.1 in /usr/local/lib/python3.10/dist-packages (from textblob) (3.8.1)\n",
            "Requirement already satisfied: click in /usr/local/lib/python3.10/dist-packages (from nltk>=3.1->textblob) (8.1.7)\n",
            "Requirement already satisfied: joblib in /usr/local/lib/python3.10/dist-packages (from nltk>=3.1->textblob) (1.3.2)\n",
            "Requirement already satisfied: regex>=2021.8.3 in /usr/local/lib/python3.10/dist-packages (from nltk>=3.1->textblob) (2023.6.3)\n",
            "Requirement already satisfied: tqdm in /usr/local/lib/python3.10/dist-packages (from nltk>=3.1->textblob) (4.66.1)\n"
          ]
        }
      ]
    },
    {
      "cell_type": "code",
      "source": [
        "pip install nltk"
      ],
      "metadata": {
        "colab": {
          "base_uri": "https://localhost:8080/"
        },
        "id": "zWyeCxPLxapU",
        "outputId": "badddf3a-a577-42bc-c5ca-f640c0063ff5"
      },
      "execution_count": null,
      "outputs": [
        {
          "output_type": "stream",
          "name": "stdout",
          "text": [
            "Requirement already satisfied: nltk in /usr/local/lib/python3.10/dist-packages (3.8.1)\n",
            "Requirement already satisfied: click in /usr/local/lib/python3.10/dist-packages (from nltk) (8.1.7)\n",
            "Requirement already satisfied: joblib in /usr/local/lib/python3.10/dist-packages (from nltk) (1.3.2)\n",
            "Requirement already satisfied: regex>=2021.8.3 in /usr/local/lib/python3.10/dist-packages (from nltk) (2023.6.3)\n",
            "Requirement already satisfied: tqdm in /usr/local/lib/python3.10/dist-packages (from nltk) (4.66.1)\n"
          ]
        }
      ]
    },
    {
      "cell_type": "code",
      "source": [
        "pip install newspaper3k"
      ],
      "metadata": {
        "colab": {
          "base_uri": "https://localhost:8080/"
        },
        "id": "RTcPRaV6xw47",
        "outputId": "7fb39527-0f9c-40d3-c244-1f9698fa1f4e"
      },
      "execution_count": null,
      "outputs": [
        {
          "output_type": "stream",
          "name": "stdout",
          "text": [
            "Requirement already satisfied: newspaper3k in /usr/local/lib/python3.10/dist-packages (0.2.8)\n",
            "Requirement already satisfied: beautifulsoup4>=4.4.1 in /usr/local/lib/python3.10/dist-packages (from newspaper3k) (4.11.2)\n",
            "Requirement already satisfied: Pillow>=3.3.0 in /usr/local/lib/python3.10/dist-packages (from newspaper3k) (9.4.0)\n",
            "Requirement already satisfied: PyYAML>=3.11 in /usr/local/lib/python3.10/dist-packages (from newspaper3k) (6.0.1)\n",
            "Requirement already satisfied: cssselect>=0.9.2 in /usr/local/lib/python3.10/dist-packages (from newspaper3k) (1.2.0)\n",
            "Requirement already satisfied: lxml>=3.6.0 in /usr/local/lib/python3.10/dist-packages (from newspaper3k) (4.9.4)\n",
            "Requirement already satisfied: nltk>=3.2.1 in /usr/local/lib/python3.10/dist-packages (from newspaper3k) (3.8.1)\n",
            "Requirement already satisfied: requests>=2.10.0 in /usr/local/lib/python3.10/dist-packages (from newspaper3k) (2.31.0)\n",
            "Requirement already satisfied: feedparser>=5.2.1 in /usr/local/lib/python3.10/dist-packages (from newspaper3k) (6.0.11)\n",
            "Requirement already satisfied: tldextract>=2.0.1 in /usr/local/lib/python3.10/dist-packages (from newspaper3k) (5.1.1)\n",
            "Requirement already satisfied: feedfinder2>=0.0.4 in /usr/local/lib/python3.10/dist-packages (from newspaper3k) (0.0.4)\n",
            "Requirement already satisfied: jieba3k>=0.35.1 in /usr/local/lib/python3.10/dist-packages (from newspaper3k) (0.35.1)\n",
            "Requirement already satisfied: python-dateutil>=2.5.3 in /usr/local/lib/python3.10/dist-packages (from newspaper3k) (2.8.2)\n",
            "Requirement already satisfied: tinysegmenter==0.3 in /usr/local/lib/python3.10/dist-packages (from newspaper3k) (0.3)\n",
            "Requirement already satisfied: soupsieve>1.2 in /usr/local/lib/python3.10/dist-packages (from beautifulsoup4>=4.4.1->newspaper3k) (2.5)\n",
            "Requirement already satisfied: six in /usr/local/lib/python3.10/dist-packages (from feedfinder2>=0.0.4->newspaper3k) (1.16.0)\n",
            "Requirement already satisfied: sgmllib3k in /usr/local/lib/python3.10/dist-packages (from feedparser>=5.2.1->newspaper3k) (1.0.0)\n",
            "Requirement already satisfied: click in /usr/local/lib/python3.10/dist-packages (from nltk>=3.2.1->newspaper3k) (8.1.7)\n",
            "Requirement already satisfied: joblib in /usr/local/lib/python3.10/dist-packages (from nltk>=3.2.1->newspaper3k) (1.3.2)\n",
            "Requirement already satisfied: regex>=2021.8.3 in /usr/local/lib/python3.10/dist-packages (from nltk>=3.2.1->newspaper3k) (2023.6.3)\n",
            "Requirement already satisfied: tqdm in /usr/local/lib/python3.10/dist-packages (from nltk>=3.2.1->newspaper3k) (4.66.1)\n",
            "Requirement already satisfied: charset-normalizer<4,>=2 in /usr/local/lib/python3.10/dist-packages (from requests>=2.10.0->newspaper3k) (3.3.2)\n",
            "Requirement already satisfied: idna<4,>=2.5 in /usr/local/lib/python3.10/dist-packages (from requests>=2.10.0->newspaper3k) (3.6)\n",
            "Requirement already satisfied: urllib3<3,>=1.21.1 in /usr/local/lib/python3.10/dist-packages (from requests>=2.10.0->newspaper3k) (2.0.7)\n",
            "Requirement already satisfied: certifi>=2017.4.17 in /usr/local/lib/python3.10/dist-packages (from requests>=2.10.0->newspaper3k) (2023.11.17)\n",
            "Requirement already satisfied: requests-file>=1.4 in /usr/local/lib/python3.10/dist-packages (from tldextract>=2.0.1->newspaper3k) (1.5.1)\n",
            "Requirement already satisfied: filelock>=3.0.8 in /usr/local/lib/python3.10/dist-packages (from tldextract>=2.0.1->newspaper3k) (3.13.1)\n"
          ]
        }
      ]
    },
    {
      "cell_type": "code",
      "source": [
        "from textblob import TextBlob\n",
        "from newspaper import article"
      ],
      "metadata": {
        "id": "WMoVvdTAx143"
      },
      "execution_count": null,
      "outputs": []
    },
    {
      "cell_type": "code",
      "source": [
        "!pip install wikipedia\n",
        "!pip install summarizer"
      ],
      "metadata": {
        "colab": {
          "base_uri": "https://localhost:8080/"
        },
        "id": "aigiPyx-x-zg",
        "outputId": "7bc5aa8b-d12c-48bf-e852-6915f56a5fe4"
      },
      "execution_count": null,
      "outputs": [
        {
          "output_type": "stream",
          "name": "stdout",
          "text": [
            "Requirement already satisfied: wikipedia in /usr/local/lib/python3.10/dist-packages (1.4.0)\n",
            "Requirement already satisfied: beautifulsoup4 in /usr/local/lib/python3.10/dist-packages (from wikipedia) (4.11.2)\n",
            "Requirement already satisfied: requests<3.0.0,>=2.0.0 in /usr/local/lib/python3.10/dist-packages (from wikipedia) (2.31.0)\n",
            "Requirement already satisfied: charset-normalizer<4,>=2 in /usr/local/lib/python3.10/dist-packages (from requests<3.0.0,>=2.0.0->wikipedia) (3.3.2)\n",
            "Requirement already satisfied: idna<4,>=2.5 in /usr/local/lib/python3.10/dist-packages (from requests<3.0.0,>=2.0.0->wikipedia) (3.6)\n",
            "Requirement already satisfied: urllib3<3,>=1.21.1 in /usr/local/lib/python3.10/dist-packages (from requests<3.0.0,>=2.0.0->wikipedia) (2.0.7)\n",
            "Requirement already satisfied: certifi>=2017.4.17 in /usr/local/lib/python3.10/dist-packages (from requests<3.0.0,>=2.0.0->wikipedia) (2023.11.17)\n",
            "Requirement already satisfied: soupsieve>1.2 in /usr/local/lib/python3.10/dist-packages (from beautifulsoup4->wikipedia) (2.5)\n",
            "Collecting summarizer\n",
            "  Downloading summarizer-0.0.7.tar.gz (280 kB)\n",
            "\u001b[2K     \u001b[90m━━━━━━━━━━━━━━━━━━━━━━━━━━━━━━━━━━━━━━━━\u001b[0m \u001b[32m280.1/280.1 kB\u001b[0m \u001b[31m5.5 MB/s\u001b[0m eta \u001b[36m0:00:00\u001b[0m\n",
            "\u001b[?25h  Preparing metadata (setup.py) ... \u001b[?25l\u001b[?25hdone\n",
            "Requirement already satisfied: nltk in /usr/local/lib/python3.10/dist-packages (from summarizer) (3.8.1)\n",
            "Requirement already satisfied: click in /usr/local/lib/python3.10/dist-packages (from nltk->summarizer) (8.1.7)\n",
            "Requirement already satisfied: joblib in /usr/local/lib/python3.10/dist-packages (from nltk->summarizer) (1.3.2)\n",
            "Requirement already satisfied: regex>=2021.8.3 in /usr/local/lib/python3.10/dist-packages (from nltk->summarizer) (2023.6.3)\n",
            "Requirement already satisfied: tqdm in /usr/local/lib/python3.10/dist-packages (from nltk->summarizer) (4.66.1)\n",
            "Building wheels for collected packages: summarizer\n",
            "  Building wheel for summarizer (setup.py) ... \u001b[?25l\u001b[?25hdone\n",
            "  Created wheel for summarizer: filename=summarizer-0.0.7-py2.py3-none-any.whl size=284209 sha256=30b7d2870b8d1c682bab34ff26f4e17610e206f7d090bec3db881111010bc429\n",
            "  Stored in directory: /root/.cache/pip/wheels/20/bb/2d/1fe057c2f729818a5f28c312c3667e8b9d5cfd4af4a39895e7\n",
            "Successfully built summarizer\n",
            "Installing collected packages: summarizer\n",
            "Successfully installed summarizer-0.0.7\n"
          ]
        }
      ]
    },
    {
      "cell_type": "code",
      "source": [
        "!pip install summarizer"
      ],
      "metadata": {
        "colab": {
          "base_uri": "https://localhost:8080/"
        },
        "id": "kS5Wgrys4FDQ",
        "outputId": "29d09b2b-71bd-441f-a555-bf900e80c027"
      },
      "execution_count": null,
      "outputs": [
        {
          "output_type": "stream",
          "name": "stdout",
          "text": [
            "Requirement already satisfied: summarizer in /usr/local/lib/python3.10/dist-packages (0.0.7)\n",
            "Requirement already satisfied: nltk in /usr/local/lib/python3.10/dist-packages (from summarizer) (3.8.1)\n",
            "Requirement already satisfied: click in /usr/local/lib/python3.10/dist-packages (from nltk->summarizer) (8.1.7)\n",
            "Requirement already satisfied: joblib in /usr/local/lib/python3.10/dist-packages (from nltk->summarizer) (1.3.2)\n",
            "Requirement already satisfied: regex>=2021.8.3 in /usr/local/lib/python3.10/dist-packages (from nltk->summarizer) (2023.6.3)\n",
            "Requirement already satisfied: tqdm in /usr/local/lib/python3.10/dist-packages (from nltk->summarizer) (4.66.1)\n"
          ]
        }
      ]
    },
    {
      "cell_type": "code",
      "source": [
        "import wikipedia\n",
        "import spacy\n",
        "\n",
        "pageid=1999\n",
        "article= wikipedia.WikipediaPage(pageid)\n",
        "\n",
        "text= article.content\n",
        "nlp= spacy.load('en_core_web_sm')\n",
        "doc= nlp(text)\n",
        "print(doc)"
      ],
      "metadata": {
        "colab": {
          "base_uri": "https://localhost:8080/",
          "height": 383
        },
        "id": "utoTNZfx_QiV",
        "outputId": "cde87a21-2ef3-4f08-ab92-85ca690788c9"
      },
      "execution_count": null,
      "outputs": [
        {
          "output_type": "error",
          "ename": "ModuleNotFoundError",
          "evalue": "No module named 'wikipedia'",
          "traceback": [
            "\u001b[0;31m---------------------------------------------------------------------------\u001b[0m",
            "\u001b[0;31mModuleNotFoundError\u001b[0m                       Traceback (most recent call last)",
            "\u001b[0;32m<ipython-input-1-367a1d3bac39>\u001b[0m in \u001b[0;36m<cell line: 1>\u001b[0;34m()\u001b[0m\n\u001b[0;32m----> 1\u001b[0;31m \u001b[0;32mimport\u001b[0m \u001b[0mwikipedia\u001b[0m\u001b[0;34m\u001b[0m\u001b[0;34m\u001b[0m\u001b[0m\n\u001b[0m\u001b[1;32m      2\u001b[0m \u001b[0;32mimport\u001b[0m \u001b[0mspacy\u001b[0m\u001b[0;34m\u001b[0m\u001b[0;34m\u001b[0m\u001b[0m\n\u001b[1;32m      3\u001b[0m \u001b[0;34m\u001b[0m\u001b[0m\n\u001b[1;32m      4\u001b[0m \u001b[0mpageid\u001b[0m\u001b[0;34m=\u001b[0m\u001b[0;36m1999\u001b[0m\u001b[0;34m\u001b[0m\u001b[0;34m\u001b[0m\u001b[0m\n\u001b[1;32m      5\u001b[0m \u001b[0marticle\u001b[0m\u001b[0;34m=\u001b[0m \u001b[0mwikipedia\u001b[0m\u001b[0;34m.\u001b[0m\u001b[0mWikipediaPage\u001b[0m\u001b[0;34m(\u001b[0m\u001b[0mpageid\u001b[0m\u001b[0;34m)\u001b[0m\u001b[0;34m\u001b[0m\u001b[0;34m\u001b[0m\u001b[0m\n",
            "\u001b[0;31mModuleNotFoundError\u001b[0m: No module named 'wikipedia'",
            "",
            "\u001b[0;31m---------------------------------------------------------------------------\u001b[0;32m\nNOTE: If your import is failing due to a missing package, you can\nmanually install dependencies using either !pip or !apt.\n\nTo view examples of installing some common dependencies, click the\n\"Open Examples\" button below.\n\u001b[0;31m---------------------------------------------------------------------------\u001b[0m\n"
          ],
          "errorDetails": {
            "actions": [
              {
                "action": "open_url",
                "actionText": "Open Examples",
                "url": "/notebooks/snippets/importing_libraries.ipynb"
              }
            ]
          }
        }
      ]
    },
    {
      "cell_type": "code",
      "source": [
        "blob=TextBlob(text)\n",
        "sentiment=blob.sentiment.polarity\n",
        "print(sentiment)"
      ],
      "metadata": {
        "colab": {
          "base_uri": "https://localhost:8080/"
        },
        "id": "zUIwuH593-Ct",
        "outputId": "571c704e-4cf9-46f7-a580-9ff659aa2f00"
      },
      "execution_count": null,
      "outputs": [
        {
          "output_type": "stream",
          "name": "stdout",
          "text": [
            "-0.03271384733410049\n"
          ]
        }
      ]
    },
    {
      "cell_type": "code",
      "source": [
        "from textblob import TextBlob\n",
        "\n",
        "text = \"it was an amazing party\"\n",
        "\n",
        "blob = TextBlob(text)\n",
        "\n",
        "print(blob.sentiment)"
      ],
      "metadata": {
        "colab": {
          "base_uri": "https://localhost:8080/"
        },
        "id": "F7DoAz4PIgJz",
        "outputId": "c6227626-38ad-4cd8-821b-41b9332843c7"
      },
      "execution_count": null,
      "outputs": [
        {
          "output_type": "stream",
          "name": "stdout",
          "text": [
            "Sentiment(polarity=0.6000000000000001, subjectivity=0.9)\n"
          ]
        }
      ]
    },
    {
      "cell_type": "code",
      "source": [
        "#newspaper article\n",
        "!pip install newspaper3k"
      ],
      "metadata": {
        "colab": {
          "base_uri": "https://localhost:8080/"
        },
        "id": "i1XynkjGJdyg",
        "outputId": "4eef0881-4b06-4335-a84b-adfa7281fabd"
      },
      "execution_count": null,
      "outputs": [
        {
          "output_type": "stream",
          "name": "stdout",
          "text": [
            "Collecting newspaper3k\n",
            "  Downloading newspaper3k-0.2.8-py3-none-any.whl (211 kB)\n",
            "\u001b[?25l     \u001b[90m━━━━━━━━━━━━━━━━━━━━━━━━━━━━━━━━━━━━━━━━\u001b[0m \u001b[32m0.0/211.1 kB\u001b[0m \u001b[31m?\u001b[0m eta \u001b[36m-:--:--\u001b[0m\r\u001b[2K     \u001b[91m━━━━━━━━━━━\u001b[0m\u001b[91m╸\u001b[0m\u001b[90m━━━━━━━━━━━━━━━━━━━━━━━━━━━━\u001b[0m \u001b[32m61.4/211.1 kB\u001b[0m \u001b[31m1.6 MB/s\u001b[0m eta \u001b[36m0:00:01\u001b[0m\r\u001b[2K     \u001b[90m━━━━━━━━━━━━━━━━━━━━━━━━━━━━━━━━━━━━━━━━\u001b[0m \u001b[32m211.1/211.1 kB\u001b[0m \u001b[31m3.2 MB/s\u001b[0m eta \u001b[36m0:00:00\u001b[0m\n",
            "\u001b[?25hRequirement already satisfied: beautifulsoup4>=4.4.1 in /usr/local/lib/python3.10/dist-packages (from newspaper3k) (4.11.2)\n",
            "Requirement already satisfied: Pillow>=3.3.0 in /usr/local/lib/python3.10/dist-packages (from newspaper3k) (9.4.0)\n",
            "Requirement already satisfied: PyYAML>=3.11 in /usr/local/lib/python3.10/dist-packages (from newspaper3k) (6.0.1)\n",
            "Collecting cssselect>=0.9.2 (from newspaper3k)\n",
            "  Downloading cssselect-1.2.0-py2.py3-none-any.whl (18 kB)\n",
            "Requirement already satisfied: lxml>=3.6.0 in /usr/local/lib/python3.10/dist-packages (from newspaper3k) (4.9.4)\n",
            "Requirement already satisfied: nltk>=3.2.1 in /usr/local/lib/python3.10/dist-packages (from newspaper3k) (3.8.1)\n",
            "Requirement already satisfied: requests>=2.10.0 in /usr/local/lib/python3.10/dist-packages (from newspaper3k) (2.31.0)\n",
            "Collecting feedparser>=5.2.1 (from newspaper3k)\n",
            "  Downloading feedparser-6.0.11-py3-none-any.whl (81 kB)\n",
            "\u001b[2K     \u001b[90m━━━━━━━━━━━━━━━━━━━━━━━━━━━━━━━━━━━━━━━━\u001b[0m \u001b[32m81.3/81.3 kB\u001b[0m \u001b[31m10.8 MB/s\u001b[0m eta \u001b[36m0:00:00\u001b[0m\n",
            "\u001b[?25hCollecting tldextract>=2.0.1 (from newspaper3k)\n",
            "  Downloading tldextract-5.1.1-py3-none-any.whl (97 kB)\n",
            "\u001b[2K     \u001b[90m━━━━━━━━━━━━━━━━━━━━━━━━━━━━━━━━━━━━━━━━\u001b[0m \u001b[32m97.7/97.7 kB\u001b[0m \u001b[31m11.6 MB/s\u001b[0m eta \u001b[36m0:00:00\u001b[0m\n",
            "\u001b[?25hCollecting feedfinder2>=0.0.4 (from newspaper3k)\n",
            "  Downloading feedfinder2-0.0.4.tar.gz (3.3 kB)\n",
            "  Preparing metadata (setup.py) ... \u001b[?25l\u001b[?25hdone\n",
            "Collecting jieba3k>=0.35.1 (from newspaper3k)\n",
            "  Downloading jieba3k-0.35.1.zip (7.4 MB)\n",
            "\u001b[2K     \u001b[90m━━━━━━━━━━━━━━━━━━━━━━━━━━━━━━━━━━━━━━━━\u001b[0m \u001b[32m7.4/7.4 MB\u001b[0m \u001b[31m77.4 MB/s\u001b[0m eta \u001b[36m0:00:00\u001b[0m\n",
            "\u001b[?25h  Preparing metadata (setup.py) ... \u001b[?25l\u001b[?25hdone\n",
            "Requirement already satisfied: python-dateutil>=2.5.3 in /usr/local/lib/python3.10/dist-packages (from newspaper3k) (2.8.2)\n",
            "Collecting tinysegmenter==0.3 (from newspaper3k)\n",
            "  Downloading tinysegmenter-0.3.tar.gz (16 kB)\n",
            "  Preparing metadata (setup.py) ... \u001b[?25l\u001b[?25hdone\n",
            "Requirement already satisfied: soupsieve>1.2 in /usr/local/lib/python3.10/dist-packages (from beautifulsoup4>=4.4.1->newspaper3k) (2.5)\n",
            "Requirement already satisfied: six in /usr/local/lib/python3.10/dist-packages (from feedfinder2>=0.0.4->newspaper3k) (1.16.0)\n",
            "Collecting sgmllib3k (from feedparser>=5.2.1->newspaper3k)\n",
            "  Downloading sgmllib3k-1.0.0.tar.gz (5.8 kB)\n",
            "  Preparing metadata (setup.py) ... \u001b[?25l\u001b[?25hdone\n",
            "Requirement already satisfied: click in /usr/local/lib/python3.10/dist-packages (from nltk>=3.2.1->newspaper3k) (8.1.7)\n",
            "Requirement already satisfied: joblib in /usr/local/lib/python3.10/dist-packages (from nltk>=3.2.1->newspaper3k) (1.3.2)\n",
            "Requirement already satisfied: regex>=2021.8.3 in /usr/local/lib/python3.10/dist-packages (from nltk>=3.2.1->newspaper3k) (2023.6.3)\n",
            "Requirement already satisfied: tqdm in /usr/local/lib/python3.10/dist-packages (from nltk>=3.2.1->newspaper3k) (4.66.1)\n",
            "Requirement already satisfied: charset-normalizer<4,>=2 in /usr/local/lib/python3.10/dist-packages (from requests>=2.10.0->newspaper3k) (3.3.2)\n",
            "Requirement already satisfied: idna<4,>=2.5 in /usr/local/lib/python3.10/dist-packages (from requests>=2.10.0->newspaper3k) (3.6)\n",
            "Requirement already satisfied: urllib3<3,>=1.21.1 in /usr/local/lib/python3.10/dist-packages (from requests>=2.10.0->newspaper3k) (2.0.7)\n",
            "Requirement already satisfied: certifi>=2017.4.17 in /usr/local/lib/python3.10/dist-packages (from requests>=2.10.0->newspaper3k) (2023.11.17)\n",
            "Collecting requests-file>=1.4 (from tldextract>=2.0.1->newspaper3k)\n",
            "  Downloading requests_file-1.5.1-py2.py3-none-any.whl (3.7 kB)\n",
            "Requirement already satisfied: filelock>=3.0.8 in /usr/local/lib/python3.10/dist-packages (from tldextract>=2.0.1->newspaper3k) (3.13.1)\n",
            "Building wheels for collected packages: tinysegmenter, feedfinder2, jieba3k, sgmllib3k\n",
            "  Building wheel for tinysegmenter (setup.py) ... \u001b[?25l\u001b[?25hdone\n",
            "  Created wheel for tinysegmenter: filename=tinysegmenter-0.3-py3-none-any.whl size=13538 sha256=437e593d0d3e9e90a2093f6453b2c56538e34c43a4b5c1d6a7c6eed252c8e222\n",
            "  Stored in directory: /root/.cache/pip/wheels/c8/d6/6c/384f58df48c00b9a31d638005143b5b3ac62c3d25fb1447f23\n",
            "  Building wheel for feedfinder2 (setup.py) ... \u001b[?25l\u001b[?25hdone\n",
            "  Created wheel for feedfinder2: filename=feedfinder2-0.0.4-py3-none-any.whl size=3340 sha256=0a3aeb2124c39f28cdb52a94680094e2092de8018fa24a41c7e46ebbd25d84fe\n",
            "  Stored in directory: /root/.cache/pip/wheels/97/02/e7/a1ff1760e12bdbaab0ac824fae5c1bc933e41c4ccd6a8f8edb\n",
            "  Building wheel for jieba3k (setup.py) ... \u001b[?25l\u001b[?25hdone\n",
            "  Created wheel for jieba3k: filename=jieba3k-0.35.1-py3-none-any.whl size=7398381 sha256=256ac4881b380f3902f51e182ebf5c8bc31fae5d85a3cb979d3bb9077d8a2a52\n",
            "  Stored in directory: /root/.cache/pip/wheels/7a/c4/0c/12a9a314ecac499456c4c3b2fcc2f635a3b45a39dfbd240299\n",
            "  Building wheel for sgmllib3k (setup.py) ... \u001b[?25l\u001b[?25hdone\n",
            "  Created wheel for sgmllib3k: filename=sgmllib3k-1.0.0-py3-none-any.whl size=6048 sha256=f9d3629b38d4b68a38a98c223a295561899d3777ebb95df209229e624712692a\n",
            "  Stored in directory: /root/.cache/pip/wheels/f0/69/93/a47e9d621be168e9e33c7ce60524393c0b92ae83cf6c6e89c5\n",
            "Successfully built tinysegmenter feedfinder2 jieba3k sgmllib3k\n",
            "Installing collected packages: tinysegmenter, sgmllib3k, jieba3k, feedparser, cssselect, requests-file, feedfinder2, tldextract, newspaper3k\n",
            "Successfully installed cssselect-1.2.0 feedfinder2-0.0.4 feedparser-6.0.11 jieba3k-0.35.1 newspaper3k-0.2.8 requests-file-1.5.1 sgmllib3k-1.0.0 tinysegmenter-0.3 tldextract-5.1.1\n"
          ]
        }
      ]
    },
    {
      "cell_type": "code",
      "source": [
        "pip install newspaper3k"
      ],
      "metadata": {
        "colab": {
          "base_uri": "https://localhost:8080/"
        },
        "id": "hqguD-KEKlfe",
        "outputId": "defcab4e-b86f-44b7-c7d2-e55ead2a31b2"
      },
      "execution_count": null,
      "outputs": [
        {
          "output_type": "stream",
          "name": "stdout",
          "text": [
            "Collecting newspaper3k\n",
            "  Downloading newspaper3k-0.2.8-py3-none-any.whl (211 kB)\n",
            "\u001b[2K     \u001b[90m━━━━━━━━━━━━━━━━━━━━━━━━━━━━━━━━━━━━━━━━\u001b[0m \u001b[32m211.1/211.1 kB\u001b[0m \u001b[31m3.0 MB/s\u001b[0m eta \u001b[36m0:00:00\u001b[0m\n",
            "\u001b[?25hRequirement already satisfied: beautifulsoup4>=4.4.1 in /usr/local/lib/python3.10/dist-packages (from newspaper3k) (4.11.2)\n",
            "Requirement already satisfied: Pillow>=3.3.0 in /usr/local/lib/python3.10/dist-packages (from newspaper3k) (9.4.0)\n",
            "Requirement already satisfied: PyYAML>=3.11 in /usr/local/lib/python3.10/dist-packages (from newspaper3k) (6.0.1)\n",
            "Collecting cssselect>=0.9.2 (from newspaper3k)\n",
            "  Downloading cssselect-1.2.0-py2.py3-none-any.whl (18 kB)\n",
            "Requirement already satisfied: lxml>=3.6.0 in /usr/local/lib/python3.10/dist-packages (from newspaper3k) (4.9.4)\n",
            "Requirement already satisfied: nltk>=3.2.1 in /usr/local/lib/python3.10/dist-packages (from newspaper3k) (3.8.1)\n",
            "Requirement already satisfied: requests>=2.10.0 in /usr/local/lib/python3.10/dist-packages (from newspaper3k) (2.31.0)\n",
            "Collecting feedparser>=5.2.1 (from newspaper3k)\n",
            "  Downloading feedparser-6.0.11-py3-none-any.whl (81 kB)\n",
            "\u001b[2K     \u001b[90m━━━━━━━━━━━━━━━━━━━━━━━━━━━━━━━━━━━━━━━━\u001b[0m \u001b[32m81.3/81.3 kB\u001b[0m \u001b[31m7.1 MB/s\u001b[0m eta \u001b[36m0:00:00\u001b[0m\n",
            "\u001b[?25hCollecting tldextract>=2.0.1 (from newspaper3k)\n",
            "  Downloading tldextract-5.1.1-py3-none-any.whl (97 kB)\n",
            "\u001b[2K     \u001b[90m━━━━━━━━━━━━━━━━━━━━━━━━━━━━━━━━━━━━━━━━\u001b[0m \u001b[32m97.7/97.7 kB\u001b[0m \u001b[31m8.9 MB/s\u001b[0m eta \u001b[36m0:00:00\u001b[0m\n",
            "\u001b[?25hCollecting feedfinder2>=0.0.4 (from newspaper3k)\n",
            "  Downloading feedfinder2-0.0.4.tar.gz (3.3 kB)\n",
            "  Preparing metadata (setup.py) ... \u001b[?25l\u001b[?25hdone\n",
            "Collecting jieba3k>=0.35.1 (from newspaper3k)\n",
            "  Downloading jieba3k-0.35.1.zip (7.4 MB)\n",
            "\u001b[2K     \u001b[90m━━━━━━━━━━━━━━━━━━━━━━━━━━━━━━━━━━━━━━━━\u001b[0m \u001b[32m7.4/7.4 MB\u001b[0m \u001b[31m15.6 MB/s\u001b[0m eta \u001b[36m0:00:00\u001b[0m\n",
            "\u001b[?25h  Preparing metadata (setup.py) ... \u001b[?25l\u001b[?25hdone\n",
            "Requirement already satisfied: python-dateutil>=2.5.3 in /usr/local/lib/python3.10/dist-packages (from newspaper3k) (2.8.2)\n",
            "Collecting tinysegmenter==0.3 (from newspaper3k)\n",
            "  Downloading tinysegmenter-0.3.tar.gz (16 kB)\n",
            "  Preparing metadata (setup.py) ... \u001b[?25l\u001b[?25hdone\n",
            "Requirement already satisfied: soupsieve>1.2 in /usr/local/lib/python3.10/dist-packages (from beautifulsoup4>=4.4.1->newspaper3k) (2.5)\n",
            "Requirement already satisfied: six in /usr/local/lib/python3.10/dist-packages (from feedfinder2>=0.0.4->newspaper3k) (1.16.0)\n",
            "Collecting sgmllib3k (from feedparser>=5.2.1->newspaper3k)\n",
            "  Downloading sgmllib3k-1.0.0.tar.gz (5.8 kB)\n",
            "  Preparing metadata (setup.py) ... \u001b[?25l\u001b[?25hdone\n",
            "Requirement already satisfied: click in /usr/local/lib/python3.10/dist-packages (from nltk>=3.2.1->newspaper3k) (8.1.7)\n",
            "Requirement already satisfied: joblib in /usr/local/lib/python3.10/dist-packages (from nltk>=3.2.1->newspaper3k) (1.3.2)\n",
            "Requirement already satisfied: regex>=2021.8.3 in /usr/local/lib/python3.10/dist-packages (from nltk>=3.2.1->newspaper3k) (2023.6.3)\n",
            "Requirement already satisfied: tqdm in /usr/local/lib/python3.10/dist-packages (from nltk>=3.2.1->newspaper3k) (4.66.1)\n",
            "Requirement already satisfied: charset-normalizer<4,>=2 in /usr/local/lib/python3.10/dist-packages (from requests>=2.10.0->newspaper3k) (3.3.2)\n",
            "Requirement already satisfied: idna<4,>=2.5 in /usr/local/lib/python3.10/dist-packages (from requests>=2.10.0->newspaper3k) (3.6)\n",
            "Requirement already satisfied: urllib3<3,>=1.21.1 in /usr/local/lib/python3.10/dist-packages (from requests>=2.10.0->newspaper3k) (2.0.7)\n",
            "Requirement already satisfied: certifi>=2017.4.17 in /usr/local/lib/python3.10/dist-packages (from requests>=2.10.0->newspaper3k) (2023.11.17)\n",
            "Collecting requests-file>=1.4 (from tldextract>=2.0.1->newspaper3k)\n",
            "  Downloading requests_file-1.5.1-py2.py3-none-any.whl (3.7 kB)\n",
            "Requirement already satisfied: filelock>=3.0.8 in /usr/local/lib/python3.10/dist-packages (from tldextract>=2.0.1->newspaper3k) (3.13.1)\n",
            "Building wheels for collected packages: tinysegmenter, feedfinder2, jieba3k, sgmllib3k\n",
            "  Building wheel for tinysegmenter (setup.py) ... \u001b[?25l\u001b[?25hdone\n",
            "  Created wheel for tinysegmenter: filename=tinysegmenter-0.3-py3-none-any.whl size=13538 sha256=8587a62f8aafd3dacc825d01969892efd687e29649380c01aa1e40f2b82a7b71\n",
            "  Stored in directory: /root/.cache/pip/wheels/c8/d6/6c/384f58df48c00b9a31d638005143b5b3ac62c3d25fb1447f23\n",
            "  Building wheel for feedfinder2 (setup.py) ... \u001b[?25l\u001b[?25hdone\n",
            "  Created wheel for feedfinder2: filename=feedfinder2-0.0.4-py3-none-any.whl size=3340 sha256=2de0bbaffe8235029da74ebb95eee0865dc920c28b144cbb5f9e31189870d96e\n",
            "  Stored in directory: /root/.cache/pip/wheels/97/02/e7/a1ff1760e12bdbaab0ac824fae5c1bc933e41c4ccd6a8f8edb\n",
            "  Building wheel for jieba3k (setup.py) ... \u001b[?25l\u001b[?25hdone\n",
            "  Created wheel for jieba3k: filename=jieba3k-0.35.1-py3-none-any.whl size=7398381 sha256=2546030127797e141ccd21dc9191eba72b281eccad9a2f167e1a6996dad4693b\n",
            "  Stored in directory: /root/.cache/pip/wheels/7a/c4/0c/12a9a314ecac499456c4c3b2fcc2f635a3b45a39dfbd240299\n",
            "  Building wheel for sgmllib3k (setup.py) ... \u001b[?25l\u001b[?25hdone\n",
            "  Created wheel for sgmllib3k: filename=sgmllib3k-1.0.0-py3-none-any.whl size=6048 sha256=0770e1f375259f1ada022b60f558bd91afdd6ec73b2680b21b404795a7be0ad1\n",
            "  Stored in directory: /root/.cache/pip/wheels/f0/69/93/a47e9d621be168e9e33c7ce60524393c0b92ae83cf6c6e89c5\n",
            "Successfully built tinysegmenter feedfinder2 jieba3k sgmllib3k\n",
            "Installing collected packages: tinysegmenter, sgmllib3k, jieba3k, feedparser, cssselect, requests-file, feedfinder2, tldextract, newspaper3k\n",
            "Successfully installed cssselect-1.2.0 feedfinder2-0.0.4 feedparser-6.0.11 jieba3k-0.35.1 newspaper3k-0.2.8 requests-file-1.5.1 sgmllib3k-1.0.0 tinysegmenter-0.3 tldextract-5.1.1\n"
          ]
        }
      ]
    },
    {
      "cell_type": "code",
      "source": [
        "from textblob import TextBlob\n",
        "import nltk\n",
        "from newspaper import Article"
      ],
      "metadata": {
        "id": "axlS0T_EbekY"
      },
      "execution_count": null,
      "outputs": []
    },
    {
      "cell_type": "code",
      "source": [
        "#Get the article\n",
        "url='https://www.latimes.com/world-nation/story/2020-09-20/coronavirus-aerosol-airborne-spread'\n",
        "article= Article(url)"
      ],
      "metadata": {
        "id": "Typ3fw3vbtxu"
      },
      "execution_count": null,
      "outputs": []
    },
    {
      "cell_type": "code",
      "source": [
        "#Do some NLP\n",
        "article.download()\n",
        "article.parse()\n",
        "nltk.download(\"punkt\")\n",
        "article.nlp()"
      ],
      "metadata": {
        "colab": {
          "base_uri": "https://localhost:8080/"
        },
        "id": "WQiSX8Sib-bu",
        "outputId": "2bfff6d9-36bb-42a3-edb8-1940fe04a29b"
      },
      "execution_count": null,
      "outputs": [
        {
          "output_type": "stream",
          "name": "stderr",
          "text": [
            "[nltk_data] Downloading package punkt to /root/nltk_data...\n",
            "[nltk_data]   Package punkt is already up-to-date!\n"
          ]
        }
      ]
    },
    {
      "cell_type": "code",
      "source": [
        "#get the summary of the article\n",
        "text=article.summary\n",
        "print(text)"
      ],
      "metadata": {
        "colab": {
          "base_uri": "https://localhost:8080/"
        },
        "id": "MVJ2Lmp5cOnM",
        "outputId": "45e05277-bceb-4240-d6de-0e6dc3c4c92b"
      },
      "execution_count": null,
      "outputs": [
        {
          "output_type": "stream",
          "name": "stdout",
          "text": [
            "The coronavirus spreads most commonly in the air, through droplets or other tiny respiratory particles that apparently can remain suspended and inhaled, the Centers for Disease Control and Prevention says in new guidance.\n",
            "“This is thought to be the main way the virus spreads,” the CDC has posted on its website.\n",
            "However, the updated two-page explanation provided little new guidance on how to protect against airborne transmission.\n",
            "Previously, the federal health agency had said the coronavirus spreads mainly between people within about six feet of one another and through direct propulsion of exhaled droplets that land in the noses and mouths of individuals nearby.\n",
            "The WHO revised its guidelines after receiving the letter July 6, saying that airborne transmission had not been definitively demonstrated but recommending that people avoid poorly ventilated, crowded spaces.\n"
          ]
        }
      ]
    },
    {
      "cell_type": "code",
      "source": [
        "obj=TextBlob(text)\n",
        "sentiment=obj.sentiment.polarity\n",
        "print(sentiment)"
      ],
      "metadata": {
        "colab": {
          "base_uri": "https://localhost:8080/"
        },
        "id": "-sHD-5eOcr-P",
        "outputId": "4e6629fa-ff55-416f-9b24-2531c7b85f3d"
      },
      "execution_count": null,
      "outputs": [
        {
          "output_type": "stream",
          "name": "stdout",
          "text": [
            "0.005914918414918407\n"
          ]
        }
      ]
    },
    {
      "cell_type": "code",
      "source": [
        "if sentiment==0:\n",
        "  print(\"the text is neutral\")\n",
        "elif sentiment>0:\n",
        "  print(\"the text is positive\")\n",
        "else:\n",
        "  print(\"the text is negative\")"
      ],
      "metadata": {
        "colab": {
          "base_uri": "https://localhost:8080/"
        },
        "id": "yzjFwAYndKZw",
        "outputId": "77f8d20c-7328-43c5-9579-1e741afb58cd"
      },
      "execution_count": null,
      "outputs": [
        {
          "output_type": "stream",
          "name": "stdout",
          "text": [
            "the text is positive\n"
          ]
        }
      ]
    }
  ]
}